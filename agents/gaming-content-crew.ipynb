{
 "cells": [
  {
   "cell_type": "code",
   "execution_count": 42,
   "id": "e2e2c365",
   "metadata": {},
   "outputs": [],
   "source": [
    "# !pip install crewai crewai-tools langchain-community langchain-openai duckduckgo-search yfinance"
   ]
  },
  {
   "cell_type": "code",
   "execution_count": 1,
   "id": "1d747c0a",
   "metadata": {},
   "outputs": [],
   "source": [
    "# these three lines swap the stdlib sqlite3 lib with the pysqlite3 package\n",
    "__import__('pysqlite3')\n",
    "import sys\n",
    "sys.modules['sqlite3'] = sys.modules.pop('pysqlite3')"
   ]
  },
  {
   "cell_type": "code",
   "execution_count": 2,
   "id": "464f639b",
   "metadata": {},
   "outputs": [],
   "source": [
    "# https://github.com/crewAIInc/crewAI/issues/2881#issuecomment-2904332609\n",
    "# from rich.console import Console\n",
    "# import sys\n",
    "# import builtins\n",
    "\n",
    "# # Create a safe console for Jupyter (no ANSI, no recursion)\n",
    "# console = Console(force_terminal=False, file=sys.__stdout__)\n",
    "\n",
    "# # Optional: make all `print()` use the safe console\n",
    "# builtins.print = console.print"
   ]
  },
  {
   "cell_type": "code",
   "execution_count": null,
   "id": "8359079c",
   "metadata": {},
   "outputs": [],
   "source": [
    "# imports\n",
    "from crewai import Agent, Task, Crew, Process\n",
    "from crewai.tools import tool\n",
    "from crewai_tools import CSVSearchTool # RAG for CSV\n",
    "import os\n",
    "from datetime import datetime, timedelta\n",
    "from langchain_openai import ChatOpenAI\n",
    "\n",
    "os.environ['OPENAI_API_KEY'] = \"\"\n",
    "llm = ChatOpenAI(model=\"gpt-4.1-mini\")"
   ]
  },
  {
   "cell_type": "code",
   "execution_count": 4,
   "id": "963f870c",
   "metadata": {},
   "outputs": [],
   "source": [
    "# Search tool\n",
    "from langchain_community.tools import DuckDuckGoSearchResults\n",
    "\n",
    "searchTool = DuckDuckGoSearchResults(backend='api', num_results=10)\n",
    "\n",
    "@tool\n",
    "def search(query: str):\n",
    "    \"\"\"Searches information using DuckDuckGo.\"\"\"\n",
    "    return searchTool.invoke(query)"
   ]
  },
  {
   "cell_type": "code",
   "execution_count": 5,
   "id": "9c4782a6",
   "metadata": {},
   "outputs": [],
   "source": [
    "videoScriptwriter = Agent(\n",
    "    role=\"Video Scriptwriter specialized in YouTube videos\",\n",
    "    goal=\"\"\"Create a detailed, engaging, and structured script tailored for a full-length YouTube content, including hooks, storytelling, transitions, and calls to action.\"\"\",\n",
    "    backstory=\"\"\"You're a highly experienced in writing scripts for gaming YouTube videos.\n",
    "        You also have a large experience in overall content creation.\n",
    "        You are a storytelling specialist when it comes to gaming videos.\n",
    "        You always search for new gaming content to make sure your gaming knowledge is up-to-date, always considering the source of the searched content.\"\"\",\n",
    "    llm=llm,\n",
    "    max_iter=5,\n",
    "    allow_delegation=False, # can't delegate his task to another agent\n",
    "    verbose=False,\n",
    "    memory=True,\n",
    "    tools=[search]\n",
    ")\n",
    "writeYoutubeVideoScript = Task(\n",
    "    description=\"\"\"Write a detailed, engaging, and structure script tailored for a full-length YouTube video script for {query}.\n",
    "    Include hooks, storytelling, transitions, and calls to action.\n",
    "    Make sure your knowledge regarding {query} is up-to-date by searching it from trusted sources such as official game websites, major gaming news outlets (e.g., IGN, Kotaku), or well-known community wikis.\"\"\",\n",
    "    expected_output=\"\"\"A well-written, structured, detailed YouTube video script for the proposed theme.\"\"\",\n",
    "    agent=videoScriptwriter\n",
    ")\n",
    "\n",
    "# suggestion from GPT - not doing it for now\n",
    "# expected_output=\"\"\"A structured script using the following format:\n",
    "\n",
    "# - Title: ...\n",
    "# - Hook (0:00–0:30): ...\n",
    "# - Intro (0:30–1:00): ...\n",
    "# - Main Storyline (1:00–X): ...\n",
    "# - Climax / Twist: ...\n",
    "# - CTA (Call to Action): ...\n",
    "# - Outro: ...\n",
    "\n",
    "# The script should have timestamps, speaker tone suggestions (if relevant), and transitions clearly marked.\"\"\""
   ]
  },
  {
   "cell_type": "code",
   "execution_count": 6,
   "id": "b718cc01",
   "metadata": {},
   "outputs": [],
   "source": [
    "thumbnailCreator = Agent(\n",
    "    role=\"Thumbnail creator specialist\",\n",
    "    goal=\"\"\"Create thumbnails inspired in a given YouTube video content, remarking attractive visual elements.\"\"\",\n",
    "    backstory=\"\"\"You are an expert in creating thumbnails for a variety of YouTube videos, always taking into account the video script and content.\n",
    "    You create impressive thumbnails using visual elements that sparks curiosity in the viewers.\"\"\",\n",
    "    llm=llm,\n",
    "    max_iter=5,\n",
    "    allow_delegation=True,\n",
    "    verbose=False,\n",
    "    memory=True,\n",
    "    tools=[search]\n",
    ")\n",
    "createThumbnails = Task(\n",
    "    description=\"\"\"Create three variations of thumbnails for the YouTube video script using its content as an inspiration.\n",
    "    If the video script lacks clarity or inspiration for thumbnail creation, you may delegate the task back to the original `videoScriptwriter` agent to revise or enrich the script content.\"\"\",\n",
    "    expected_output=\"\"\"Three thumbnail concepts with the following format:\n",
    "    - Suggested title text (short, 3 to 6 words)\n",
    "    - Description of imagery and layout (what's shown, colors, expressions, etc.)\n",
    "    - Emotions or curiosity triggers used (e.g., surprise, suspense, humor)\n",
    "    - Optional: callouts or design notes (e.g., “add red arrow pointing to treasure chest”)\"\"\",\n",
    "    agent=thumbnailCreator,\n",
    "    context=[writeYoutubeVideoScript]\n",
    ")"
   ]
  },
  {
   "cell_type": "code",
   "execution_count": 7,
   "id": "91824718",
   "metadata": {},
   "outputs": [],
   "source": [
    "videoScriptReviewer = Agent(\n",
    "    role=\"Senior video script reviewer\",\n",
    "    goal=\"\"\"Review the video script to ensure it is well-structured, has detailed content, is ready to be recorded, and has thumbnail options that matches the video content.\"\"\",\n",
    "    backstory=\"\"\"You are an unbelievable video script reviewer that understands what a high-quality YouTube video should have, and how it should be structured.\n",
    "    \"You always know when a thumbnail is appropriate for the video content, and if it will make the audience curious.\"\"\",\n",
    "    llm=llm,\n",
    "    max_iter=5,\n",
    "    allow_delegation=True,\n",
    "    verbose=False,\n",
    "    memory=True\n",
    ")\n",
    "review = Task(\n",
    "    description=\"\"\"Review the YouTube video script and the associated thumbnails to write the final YouTube video script.\n",
    "    Include the three thumbnail options, and write a brief summary on why each one should be used.\n",
    "    If you think the video script and/or the thumbnails aren't good enough, you can delegate back to the video script writer and/or the thumbnail creator so they work again on their task.\n",
    "    If a task is delegated, provide a specific comment explaining *what must be improved* (e.g., \"script lacks a strong hook,\" or \"thumbnail doesn’t match climax scene\").\"\"\",\n",
    "    expected_output=\"\"\"A final, polished YouTube video script and three thumbnail options, with justifications for each.\n",
    "        Output format:\n",
    "        ---\n",
    "        SCRIPT:\n",
    "        <final video script content>\n",
    "\n",
    "        THUMBNAILS:\n",
    "        1. Thumbnail Concept 1\n",
    "        - Justification: ...\n",
    "        2. Thumbnail Concept 2\n",
    "        - Justification: ...\n",
    "        3. Thumbnail Concept 3\n",
    "        - Justification: ...\n",
    "   \"\"\",\n",
    "    agent=videoScriptReviewer,\n",
    "    context=[writeYoutubeVideoScript, createThumbnails]\n",
    ")"
   ]
  },
  {
   "cell_type": "code",
   "execution_count": 12,
   "id": "0bde3cc6",
   "metadata": {},
   "outputs": [],
   "source": [
    "crew = Crew(\n",
    "    agents=[videoScriptwriter, thumbnailCreator, videoScriptReviewer],\n",
    "    tasks=[writeYoutubeVideoScript, createThumbnails, review],\n",
    "    verbose=False,\n",
    "    process=Process.hierarchical,\n",
    "    full_output=True,\n",
    "    share_crew=False,\n",
    "    manager_llm=llm\n",
    ")"
   ]
  },
  {
   "cell_type": "code",
   "execution_count": 13,
   "id": "247ab6e5",
   "metadata": {},
   "outputs": [],
   "source": [
    "results = crew.kickoff(inputs={'query': 'Top 5 best games for 2024'})"
   ]
  },
  {
   "cell_type": "code",
   "execution_count": 14,
   "id": "cc0a29ec",
   "metadata": {},
   "outputs": [
    {
     "data": {
      "text/markdown": [
       "---\n",
       "SCRIPT:\n",
       "\"Hey gamers! 2024 is shaping up to be one of the most exciting years in gaming history. Whether you love sprawling open worlds, dark fantasy adventures, or spine-chilling horror, this year has something epic in store for you. Today, we’re counting down the Top 5 Best Games to watch for in 2024. So grab your controller, sit back, and let’s dive right in!\n",
       "\n",
       "From magical expansions to brand-new universes, these games promise to deliver unforgettable experiences that will keep you hooked for hours. Don’t forget to hit that like button and subscribe for more awesome gaming content. Now, let’s jump into our list!\n",
       "\n",
       "Starting off our list at number five is the much-anticipated Dark Arts Expansion for Hogwarts Legacy. After the massive success of the original game, fans are eager to dive deeper into the wizarding world, but this time exploring the darker side of magic. Imagine mastering forbidden spells and uncovering hidden secrets in the shadowy corners of Hogwarts. With beautiful next-gen graphics and a rich narrative, this expansion is a must-play for any Harry Potter fan or RPG lover. It’s coming to PlayStation 5, Xbox Series X|S, and PC this March, and IGN couldn’t stop praising its immersive storytelling.\n",
       "\n",
       "From the enchanted halls of Hogwarts to the vast expanse of space, our next game takes us on a journey beyond the stars…\n",
       "\n",
       "At number four, we have Starfield, Bethesda’s first new IP in over 25 years. This sci-fi RPG lets you explore an expansive galaxy filled with mysteries and adventure. Whether you want to customize your spaceship, forge alliances, or uncover ancient secrets, Starfield offers unparalleled freedom in an ambitious universe. Launched on Xbox Series X|S and PC in February, GameSpot calls it a game-changer for sci-fi fans and RPG enthusiasts alike. If you dream of space exploration, this title is your launchpad.\n",
       "\n",
       "Speaking of epic journeys, Final Fantasy fans have a new adventure to look forward to…\n",
       "\n",
       "Coming in at number three is Final Fantasy XVI, a visually stunning and narratively rich action RPG exclusive to PlayStation 5. Known for its intricate storylines and innovative combat, this latest installment promises a mature tale filled with political intrigue, powerful summons, and breathtaking battles. Set for release in June, both IGN and Kotaku have praised its fresh take on the beloved franchise, making it a must-play for fans and newcomers alike.\n",
       "\n",
       "Next up, we head to a legendary franchise that continues to redefine adventure on Nintendo Switch…\n",
       "\n",
       "At number two is The Legend of Zelda: Echoes of Time, the highly anticipated new installment for the Nintendo Switch. Building on the groundbreaking success of Breath of the Wild, this game is expected to introduce innovative gameplay mechanics and a deeper story that will captivate both longtime fans and new players. Although we’re still awaiting official details, trusted outlets like IGN and Kotaku expect it to be one of the defining Switch games of 2024.\n",
       "\n",
       "And now, for our number one pick—prepare yourself for a terrifyingly good time…\n",
       "\n",
       "Topping our list is the Resident Evil 4 Remake, arriving on PlayStation 5, Xbox Series X|S, and PC this March. Capcom has masterfully reimagined this classic survival horror title with stunning visuals, modernized gameplay, and an enhanced story that respects the original while introducing new elements. Known as one of the greatest games of all time, this remake is praised by GameSpot for perfectly balancing nostalgia and innovation. Whether you’re a horror veteran or a newcomer, Resident Evil 4 Remake promises intense thrills and chills.\n",
       "\n",
       "There you have it—the Top 5 Best Games for 2024 that you absolutely cannot miss. Which one are you most excited to play? Drop your thoughts in the comments below! And if you enjoyed this countdown, please give the video a thumbs up and subscribe for more deep dives into the world of gaming. Thanks for watching, and I’ll see you in the next video!\n",
       "\n",
       "Check out our playlist for more top game lists and reviews, and don’t forget to hit that notification bell so you never miss an update!\"\n",
       "\n",
       "THUMBNAILS:\n",
       "1. Thumbnail Concept 1\n",
       "- Justification: This thumbnail features a dynamic and colorful collage of characters and elements from all five games, instantly conveying the variety and excitement viewers can expect. The vibrant gradient background with glowing effects adds energy and mystery, while the bold title text with a \"2024\" badge draws immediate attention. This design appeals to fans of the games and sparks curiosity through its detailed imagery.\n",
       "\n",
       "2. Thumbnail Concept 2\n",
       "- Justification: Centering on a large game controller surrounded by iconic elements from each game, this thumbnail emphasizes the essential nature of these titles for gamers in 2024. The sleek black background with electric blue and orange streaks injects energy and urgency, while the metallic silver 3D-effect title conveys importance. This option appeals to gamers looking for must-play recommendations and has a modern, polished look.\n",
       "\n",
       "3. Thumbnail Concept 3\n",
       "- Justification: Utilizing a countdown timer or scoreboard style, this thumbnail visually highlights the ranking format of the video, engaging viewers with suspense and excitement. The fiery orange and red gradient background invokes intensity and drama, particularly with the bright red highlight on the number 1 slot (Resident Evil 4 Remake). The distressed texture on the bold white title adds an edgy feel. This design effectively communicates the countdown theme and entices viewers interested in rankings and top lists."
      ],
      "text/plain": [
       "<IPython.core.display.Markdown object>"
      ]
     },
     "execution_count": 14,
     "metadata": {},
     "output_type": "execute_result"
    }
   ],
   "source": [
    "from IPython.display import Markdown\n",
    "Markdown(results.raw)"
   ]
  }
 ],
 "metadata": {
  "kernelspec": {
   "display_name": "Python 3",
   "language": "python",
   "name": "python3"
  },
  "language_info": {
   "codemirror_mode": {
    "name": "ipython",
    "version": 3
   },
   "file_extension": ".py",
   "mimetype": "text/x-python",
   "name": "python",
   "nbconvert_exporter": "python",
   "pygments_lexer": "ipython3",
   "version": "3.10.17"
  }
 },
 "nbformat": 4,
 "nbformat_minor": 5
}
