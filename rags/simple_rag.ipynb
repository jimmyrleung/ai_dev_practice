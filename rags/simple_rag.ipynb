{
 "cells": [
  {
   "cell_type": "code",
   "execution_count": 2,
   "id": "bc88eefa",
   "metadata": {},
   "outputs": [],
   "source": [
    "# imports\n",
    "from langchain_text_splitters import RecursiveCharacterTextSplitter\n",
    "from langchain_openai import OpenAIEmbeddings\n",
    "from langchain_openai import ChatOpenAI\n",
    "from langchain_community.document_loaders import PyPDFLoader\n",
    "from langchain_core.prompts import PromptTemplate\n",
    "from langchain_core.runnables import RunnableSequence\n",
    "\n",
    "# these three lines swap the stdlib sqlite3 lib with the pysqlite3 package\n",
    "__import__('pysqlite3')\n",
    "import sys\n",
    "sys.modules['sqlite3'] = sys.modules.pop('pysqlite3')\n",
    "\n",
    "# need to import Chroma AFTER sqlite swap\n",
    "from langchain_community.vectorstores import Chroma\n",
    "\n",
    "# Load OpenAI api key (remove before commit)\n",
    "import os\n",
    "import json"
   ]
  },
  {
   "cell_type": "code",
   "execution_count": null,
   "id": "6efa1223",
   "metadata": {},
   "outputs": [],
   "source": [
    "# initial setup\n",
    "os.environ[\"OPENAI_API_KEY\"] = \"\"\n",
    "# Load dos modelos (Embedding model da OpenAI e a LLM em si)\n",
    "embeddings_model = OpenAIEmbeddings()\n",
    "llm = ChatOpenAI(model_name= \"gpt-3.5-turbo\", max_tokens= 200)"
   ]
  },
  {
   "cell_type": "code",
   "execution_count": null,
   "id": "2352d682",
   "metadata": {},
   "outputs": [
    {
     "name": "stderr",
     "output_type": "stream",
     "text": [
      "/tmp/ipykernel_16243/1648333908.py:26: LangChainDeprecationWarning: The class `Chroma` was deprecated in LangChain 0.2.9 and will be removed in 1.0. An updated version of the class exists in the :class:`~langchain-chroma package and should be used instead. To use it run `pip install -U :class:`~langchain-chroma` and import as `from :class:`~langchain_chroma import Chroma``.\n",
      "  vectordb = Chroma(embedding_function=embeddings_model, persist_directory=\"simple_rag_db\")\n"
     ]
    },
    {
     "data": {
      "text/plain": [
       "VectorStoreRetriever(tags=['Chroma', 'OpenAIEmbeddings'], vectorstore=<langchain_community.vectorstores.chroma.Chroma object at 0x7f3fde9a7d00>, search_kwargs={'k': 3})"
      ]
     },
     "execution_count": 5,
     "metadata": {},
     "output_type": "execute_result"
    }
   ],
   "source": [
    "def getRelevantChunksRetriever():\n",
    "    \"\"\"Load PDF, split into chunks, save them to the vectordb, and return relevant chunks retriever\"\"\"\n",
    "    pdf_link = \"os-sertoes.pdf\"\n",
    "    loader = PyPDFLoader(pdf_link, extract_images=False)\n",
    "    pages = loader.load_and_split()\n",
    "\n",
    "    text_splitter = RecursiveCharacterTextSplitter(\n",
    "        chunk_size = 4000, # each chunk will have 4000 characters\n",
    "        chunk_overlap = 20, # they will have an overlap of 20 characters so we do not lose much content at the end of a given chunk\n",
    "        length_function = len,\n",
    "        add_start_index = True\n",
    "    )\n",
    "    \n",
    "    # split PDF into chunks\n",
    "    chunks = text_splitter.split_documents(pages)\n",
    "\n",
    "    # persist chunks into the VectorDB using OPENAI embedding model to the simple_rag_db dir\n",
    "    # doing in batches to avoid exceeding token limit\n",
    "    #Chroma.from_documents(chunks, embedding=embeddings_model, persist_directory=\"simple_rag_db\")\n",
    "    max_batch_size = 100\n",
    "    for i in range(0, len(chunks), max_batch_size):\n",
    "        batch = chunks[i:i + max_batch_size]\n",
    "        Chroma.from_documents(batch, embedding=embeddings_model, persist_directory=\"simple_rag_db\")\n",
    "    \n",
    "    # load vectordb\n",
    "    vectordb = Chroma(embedding_function=embeddings_model, persist_directory=\"simple_rag_db\")\n",
    "\n",
    "    # Load Retriever - function to retrieve relevant chunks\n",
    "    # k = 3 - top 3 relevant chunks\n",
    "    retriever = vectordb.as_retriever(search_kwargs={\"k\": 3}, max_tokens_limit=10000)\n",
    "    return retriever\n",
    "\n",
    "def getRelevantChunks(question):\n",
    "    retriever = getRelevantChunksRetriever()\n",
    "    context = retriever.invoke(question)\n",
    "    return context"
   ]
  },
  {
   "cell_type": "code",
   "execution_count": 6,
   "id": "9eda6def",
   "metadata": {},
   "outputs": [],
   "source": [
    "def ask(question, llm):\n",
    "    TEMPLATE = \"\"\"\n",
    "        Você é um especialista nas obras de Euclides da cunha, em especial, na obra \"Os sertões\". \n",
    "        Com base no contexto, responda a pergunta indicada.\n",
    "        Contexto: {context}\n",
    "        Pergunta: {question}\n",
    "    \"\"\"\n",
    "    prompt = PromptTemplate(input_variables = ['context', 'question'], template=TEMPLATE)\n",
    "    sequence = RunnableSequence(prompt | llm)\n",
    "    context = getRelevantChunks(question)\n",
    "    response = sequence.invoke({ 'context': context, 'question': question })\n",
    "    return response"
   ]
  },
  {
   "cell_type": "code",
   "execution_count": null,
   "id": "48a456a4",
   "metadata": {},
   "outputs": [
    {
     "data": {
      "text/plain": [
       "AIMessage(content='Euclides da Cunha descreve o ambiente natural do sertão nordestino como extremamente adverso, com características geológicas, topográficas e climáticas que se influenciam mutuamente. Ele ressalta que as condições genéticas dos habitantes reagem fortemente a essas influências ambientais, contribuindo para agravar as condições de vida no local. Euclides da Cunha destaca a significação mesológica do sertão, apontando para um conflito perene e indefinido que afeta a vida dos habitantes, tornando-o um lugar de extrema dificuldade para sobreviver.', additional_kwargs={'refusal': None}, response_metadata={'token_usage': {'completion_tokens': 147, 'prompt_tokens': 2184, 'total_tokens': 2331, 'completion_tokens_details': {'accepted_prediction_tokens': 0, 'audio_tokens': 0, 'reasoning_tokens': 0, 'rejected_prediction_tokens': 0}, 'prompt_tokens_details': {'audio_tokens': 0, 'cached_tokens': 0}}, 'model_name': 'gpt-3.5-turbo-0125', 'system_fingerprint': None, 'finish_reason': 'stop', 'logprobs': None}, id='run--c3ff5a67-5741-4681-8905-aec06ae19989-0', usage_metadata={'input_tokens': 2184, 'output_tokens': 147, 'total_tokens': 2331, 'input_token_details': {'audio': 0, 'cache_read': 0}, 'output_token_details': {'audio': 0, 'reasoning': 0}})"
      ]
     },
     "execution_count": 7,
     "metadata": {},
     "output_type": "execute_result"
    }
   ],
   "source": [
    "response = ask(\"1. Qual é a visão de Euclides da Cunha sobre o ambiente natural do sertão nordestino e como ele influencia a vida dos habitantes?\", llm)\n",
    "response\n"
   ]
  },
  {
   "cell_type": "code",
   "execution_count": 9,
   "id": "f60d12f6",
   "metadata": {},
   "outputs": [
    {
     "data": {
      "text/plain": [
       "AIMessage(content='Euclides da Cunha descreve a população sertaneja como resistente, sofrida e adaptada às condições adversas do ambiente em que vivem. Ele destaca a força e a determinação dessas pessoas, que lutam diariamente contra as agruras do clima, da geografia e das condições de vida precárias. Euclides relaciona essas características com o ambiente sertanejo, mostrando como a dureza do meio influencia o modo de vida e as características do povo que ali habita. Ele destaca a interação entre as condições genéticas, as influências do ambiente e as características físicas e geológicas da região, mostrando como todos esses elementos se entrelaçam e moldam a vida e a cultura sertaneja.', additional_kwargs={'refusal': None}, response_metadata={'token_usage': {'completion_tokens': 180, 'prompt_tokens': 2078, 'total_tokens': 2258, 'completion_tokens_details': {'accepted_prediction_tokens': 0, 'audio_tokens': 0, 'reasoning_tokens': 0, 'rejected_prediction_tokens': 0}, 'prompt_tokens_details': {'audio_tokens': 0, 'cached_tokens': 0}}, 'model_name': 'gpt-3.5-turbo-0125', 'system_fingerprint': None, 'finish_reason': 'stop', 'logprobs': None}, id='run--88262c0b-c2f6-4f04-ac0b-544fd7d8302e-0', usage_metadata={'input_tokens': 2078, 'output_tokens': 180, 'total_tokens': 2258, 'input_token_details': {'audio': 0, 'cache_read': 0}, 'output_token_details': {'audio': 0, 'reasoning': 0}})"
      ]
     },
     "execution_count": 9,
     "metadata": {},
     "output_type": "execute_result"
    }
   ],
   "source": [
    "response2 = ask(\"2. Quais são as principais características da população sertaneja descritas por Euclides da Cunha? Como ele relaciona essas características com o ambiente em que vivem?\", llm)\n",
    "response2"
   ]
  },
  {
   "cell_type": "code",
   "execution_count": 10,
   "id": "c834dab2",
   "metadata": {},
   "outputs": [
    {
     "data": {
      "text/plain": [
       "AIMessage(content='Segundo Euclides da Cunha, o contexto histórico e político que levou à Guerra de Canudos foi marcado pela presença de tensões entre monarquistas e republicanos, assim como pela atuação de figuras sanguinárias, como o Coronel Antônio Moreira César, que serviam aos projetos políticos do governo da época. Além disso, a derrota das três primeiras expedições militares contra o povo de Canudos contribuiu para intensificar o conflito na região. Euclides da Cunha também estabeleceu um paralelo entre a rebelião em Canudos e a revolta dos camponeses monarquistas e católicos da região da Vendeia na França, ocorrida entre 1793 e 1796.', additional_kwargs={'refusal': None}, response_metadata={'token_usage': {'completion_tokens': 185, 'prompt_tokens': 2635, 'total_tokens': 2820, 'completion_tokens_details': {'accepted_prediction_tokens': 0, 'audio_tokens': 0, 'reasoning_tokens': 0, 'rejected_prediction_tokens': 0}, 'prompt_tokens_details': {'audio_tokens': 0, 'cached_tokens': 0}}, 'model_name': 'gpt-3.5-turbo-0125', 'system_fingerprint': None, 'finish_reason': 'stop', 'logprobs': None}, id='run--3b62434a-08c0-4bd4-b98a-14435a5a5823-0', usage_metadata={'input_tokens': 2635, 'output_tokens': 185, 'total_tokens': 2820, 'input_token_details': {'audio': 0, 'cache_read': 0}, 'output_token_details': {'audio': 0, 'reasoning': 0}})"
      ]
     },
     "execution_count": 10,
     "metadata": {},
     "output_type": "execute_result"
    }
   ],
   "source": [
    "response3 = ask(\"3. Qual foi o contexto histórico e político que levou à Guerra de Canudos, segundo Euclides da Cunha?\", llm)\n",
    "response3"
   ]
  },
  {
   "cell_type": "code",
   "execution_count": 11,
   "id": "2d6c50d1",
   "metadata": {},
   "outputs": [
    {
     "data": {
      "text/plain": [
       "AIMessage(content='Euclides da Cunha descreve a figura de Antônio Conselheiro como um líder carismático e religioso, que exercia grande influência sobre seus seguidores em Canudos. Ele é retratado como um protetor dos mais necessitados, como mulheres, crianças, velhos e doentes, que viviam sob sua tutela no arraial. Conselheiro é visto como um líder que exigia disciplina e ordem entre seus seguidores, sendo tolerante com as expedições políticas que ocorriam na região, mas mantendo seu foco na proteção dos mais vulneráveis. Ele é descrito como um Santo protetor, cuja presença era reverenciada pelos habitantes de Canudos.', additional_kwargs={'refusal': None}, response_metadata={'token_usage': {'completion_tokens': 164, 'prompt_tokens': 2337, 'total_tokens': 2501, 'completion_tokens_details': {'accepted_prediction_tokens': 0, 'audio_tokens': 0, 'reasoning_tokens': 0, 'rejected_prediction_tokens': 0}, 'prompt_tokens_details': {'audio_tokens': 0, 'cached_tokens': 0}}, 'model_name': 'gpt-3.5-turbo-0125', 'system_fingerprint': None, 'finish_reason': 'stop', 'logprobs': None}, id='run--8ac5e711-be6b-4263-8ece-6b90ef97f640-0', usage_metadata={'input_tokens': 2337, 'output_tokens': 164, 'total_tokens': 2501, 'input_token_details': {'audio': 0, 'cache_read': 0}, 'output_token_details': {'audio': 0, 'reasoning': 0}})"
      ]
     },
     "execution_count": 11,
     "metadata": {},
     "output_type": "execute_result"
    }
   ],
   "source": [
    "response4 = ask(\"4. Como Euclides da Cunha descreve a figura de Antônio Conselheiro e seu papel na Guerra de Canudos?\", llm)\n",
    "response4"
   ]
  },
  {
   "cell_type": "code",
   "execution_count": 12,
   "id": "d9945e00",
   "metadata": {},
   "outputs": [
    {
     "data": {
      "text/plain": [
       "AIMessage(content='Os principais aspectos da crítica social e política presentes em \"Os Sertões\" estão relacionados à denúncia da injustiça social e da desigualdade presentes no interior do Brasil, especialmente no sertão nordestino. Euclides da Cunha mostra a realidade brutal e violenta dos conflitos entre os sertanejos e as forças do governo, além de abordar questões como a exploração econômica, o descaso das autoridades e a falta de infraestrutura nas regiões mais remotas do país.\\n\\nEsses aspectos refletem a visão do autor sobre o Brasil da época como um país marcado pela violência, pela desigualdade social e pela falta de desenvolvimento. Euclides da Cunha critica a forma como o governo lida com as questões do interior, evidenciando a falta de políticas públicas adequ', additional_kwargs={'refusal': None}, response_metadata={'token_usage': {'completion_tokens': 200, 'prompt_tokens': 1363, 'total_tokens': 1563, 'completion_tokens_details': {'accepted_prediction_tokens': 0, 'audio_tokens': 0, 'reasoning_tokens': 0, 'rejected_prediction_tokens': 0}, 'prompt_tokens_details': {'audio_tokens': 0, 'cached_tokens': 0}}, 'model_name': 'gpt-3.5-turbo-0125', 'system_fingerprint': None, 'finish_reason': 'length', 'logprobs': None}, id='run--5e76b68f-9a64-4396-afb2-de5fd8a0d941-0', usage_metadata={'input_tokens': 1363, 'output_tokens': 200, 'total_tokens': 1563, 'input_token_details': {'audio': 0, 'cache_read': 0}, 'output_token_details': {'audio': 0, 'reasoning': 0}})"
      ]
     },
     "execution_count": 12,
     "metadata": {},
     "output_type": "execute_result"
    }
   ],
   "source": [
    "response5 = ask('5. Quais são os principais aspectos da crítica social e política presentes em \"Os Sertões\"? Como esses aspectos refletem a visão do autor sobre o Brasil da época?', llm)\n",
    "response5"
   ]
  }
 ],
 "metadata": {
  "kernelspec": {
   "display_name": "Python 3",
   "language": "python",
   "name": "python3"
  },
  "language_info": {
   "codemirror_mode": {
    "name": "ipython",
    "version": 3
   },
   "file_extension": ".py",
   "mimetype": "text/x-python",
   "name": "python",
   "nbconvert_exporter": "python",
   "pygments_lexer": "ipython3",
   "version": "3.10.17"
  }
 },
 "nbformat": 4,
 "nbformat_minor": 5
}
