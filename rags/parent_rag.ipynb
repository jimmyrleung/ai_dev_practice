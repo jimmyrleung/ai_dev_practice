{
 "cells": [
  {
   "cell_type": "code",
   "execution_count": 1,
   "id": "439cd2e8",
   "metadata": {},
   "outputs": [],
   "source": [
    "# imports\n",
    "from langchain_text_splitters import RecursiveCharacterTextSplitter\n",
    "from langchain_openai import OpenAIEmbeddings, ChatOpenAI\n",
    "from langchain_core.prompts import ChatPromptTemplate\n",
    "from langchain_community.document_loaders import PyPDFLoader\n",
    "from langchain.retrievers import ParentDocumentRetriever\n",
    "from langchain.storage import InMemoryStore\n",
    "from langchain_core.runnables import RunnablePassthrough, RunnableParallel\n",
    "from langchain_core.output_parsers import StrOutputParser\n",
    "\n",
    "# these three lines swap the stdlib sqlite3 lib with the pysqlite3 package\n",
    "__import__('pysqlite3')\n",
    "import sys\n",
    "sys.modules['sqlite3'] = sys.modules.pop('pysqlite3')\n",
    "from langchain_chroma import Chroma\n",
    "\n",
    "import os"
   ]
  },
  {
   "cell_type": "code",
   "execution_count": null,
   "id": "6b368194",
   "metadata": {},
   "outputs": [],
   "source": [
    "# initial setup\n",
    "os.environ[\"OPENAI_API_KEY\"] = \"\"\n",
    "# Load dos modelos (Embedding model da OpenAI e a LLM em si)\n",
    "embeddings_model = OpenAIEmbeddings()\n",
    "llm = ChatOpenAI(model_name= \"gpt-3.5-turbo\", max_tokens= 200)"
   ]
  },
  {
   "cell_type": "code",
   "execution_count": 3,
   "id": "ed36a633",
   "metadata": {},
   "outputs": [],
   "source": [
    "# load pdf, split and create splitters\n",
    "pdf_link = \"os-sertoes.pdf\"\n",
    "loader = PyPDFLoader(pdf_link, extract_images=False)\n",
    "pages = loader.load_and_split()\n",
    "\n",
    "child_splitter = RecursiveCharacterTextSplitter(chunk_size=200) # small chunks\n",
    "# large chunks\n",
    "parent_splitter = RecursiveCharacterTextSplitter(\n",
    "    chunk_size=4000,\n",
    "    chunk_overlap = 200,\n",
    "    length_function = len,\n",
    "    add_start_index = True)"
   ]
  },
  {
   "cell_type": "code",
   "execution_count": 4,
   "id": "1ca4cd7b",
   "metadata": {},
   "outputs": [],
   "source": [
    "# create in memory store for parent chunks, store small chunks in the vector db\n",
    "store = InMemoryStore()\n",
    "vectorstore = Chroma(embedding_function=embeddings_model, persist_directory=\"child_vector_db\")"
   ]
  },
  {
   "cell_type": "code",
   "execution_count": 5,
   "id": "c1a2e290",
   "metadata": {},
   "outputs": [],
   "source": [
    "# persist documents to the docstore (parent db)\n",
    "parent_document_retriever = ParentDocumentRetriever(\n",
    "    vectorstore=vectorstore,\n",
    "    docstore=store,\n",
    "    child_splitter=child_splitter,\n",
    "    parent_splitter=parent_splitter)\n",
    "\n",
    "parent_document_retriever.add_documents(pages, ids=None)"
   ]
  },
  {
   "cell_type": "code",
   "execution_count": 9,
   "id": "2363576e",
   "metadata": {},
   "outputs": [],
   "source": [
    "def ask(question):\n",
    "    TEMPLATE = \"\"\"\n",
    "        Você é um especialista nas obras de Euclides da cunha, em especial, na obra \"Os sertões\". \n",
    "        Com base no contexto, responda a pergunta indicada.\n",
    "        Contexto: {context}\n",
    "        Pergunta: {question}\n",
    "    \"\"\"\n",
    "    rag_prompt = ChatPromptTemplate.from_template(TEMPLATE)\n",
    "    setup_retrieval = RunnableParallel({\"question\": RunnablePassthrough(), \"context\": parent_document_retriever})\n",
    "    output_parser = StrOutputParser()\n",
    "    parent_chain_retrieval = setup_retrieval | rag_prompt | llm | output_parser\n",
    "    response = parent_chain_retrieval.invoke(question)\n",
    "    return response"
   ]
  },
  {
   "cell_type": "code",
   "execution_count": 10,
   "id": "aba6e611",
   "metadata": {},
   "outputs": [
    {
     "data": {
      "text/plain": [
       "'Euclides da Cunha descreve o ambiente natural do sertão nordestino como uma região árida e hostil, marcada por uma vegetação escassa e um clima extremamente seco. Ele destaca que essa paisagem inóspita exerce uma forte influência sobre a vida dos habitantes locais, tornando a sobrevivência uma tarefa árdua e desafiadora. Além disso, Euclides ressalta que as condições geográficas e climáticas do sertão contribuem para moldar a cultura, as tradições e o modo de vida das pessoas que habitam essa região, influenciando suas práticas cotidianas e suas relações sociais.'"
      ]
     },
     "execution_count": 10,
     "metadata": {},
     "output_type": "execute_result"
    }
   ],
   "source": [
    "response = ask(\"1. Qual é a visão de Euclides da Cunha sobre o ambiente natural do sertão nordestino e como ele influencia a vida dos habitantes?\")\n",
    "response"
   ]
  },
  {
   "cell_type": "code",
   "execution_count": 12,
   "id": "c5e6ff22",
   "metadata": {},
   "outputs": [
    {
     "data": {
      "text/plain": [
       "'Euclides da Cunha descreve a população sertaneja como resistente, adaptada às duras condições do ambiente árido e inóspito do sertão. Ele destaca a força física e psicológica dessas pessoas, que enfrentam as agruras do clima, a escassez de recursos e a violência do meio ambiente. O autor relaciona essas características com o ambiente em que vivem ao mostrar como a geografia e o clima do sertão moldam a vida e o comportamento dessas pessoas, influenciando sua cultura, suas tradições e sua forma de sobrevivência. Euclides da Cunha ressalta a importância de compreender a mesologia do local para entender a realidade da população sertaneja e sua relação com o meio ambiente hostil em que estão inseridos.'"
      ]
     },
     "execution_count": 12,
     "metadata": {},
     "output_type": "execute_result"
    }
   ],
   "source": [
    "response2 = ask(\"2. Quais são as principais características da população sertaneja descritas por Euclides da Cunha? Como ele relaciona essas características com o ambiente em que vivem?\")\n",
    "response2"
   ]
  },
  {
   "cell_type": "code",
   "execution_count": 13,
   "id": "cecc4575",
   "metadata": {},
   "outputs": [
    {
     "data": {
      "text/plain": [
       "'Segundo Euclides da Cunha, o contexto histórico e político que levou à Guerra de Canudos foi marcado por uma série de expedições militares enviadas pelo governo para destruir a comunidade de Canudos, sob a alegação de que representava uma reação monárquica para solapar as instituições republicanas. A presença do beato Antônio Conselheiro e a formação da comunidade de Belo Monte às margens do Rio Vaza-Barris também foram fatores que contribuíram para o conflito. A divisão da mentalidade intelectual da época entre monarquistas e republicanos também influenciou o desenrolar dos eventos que culminaram na Guerra de Canudos.'"
      ]
     },
     "execution_count": 13,
     "metadata": {},
     "output_type": "execute_result"
    }
   ],
   "source": [
    "response3 = ask(\"3. Qual foi o contexto histórico e político que levou à Guerra de Canudos, segundo Euclides da Cunha?\")\n",
    "response3"
   ]
  },
  {
   "cell_type": "code",
   "execution_count": 14,
   "id": "9314a2b3",
   "metadata": {},
   "outputs": [
    {
     "data": {
      "text/plain": [
       "'Euclides da Cunha descreve Antônio Conselheiro como um líder carismático e messiânico, que conseguiu reunir seguidores em torno de sua figura e de suas ideias. Ele é retratado como um homem que despertava devoção e fervor religioso em seus seguidores, sendo capaz de mobilizá-los em defesa de suas crenças e da comunidade de Canudos. Antônio Conselheiro é apresentado como o principal líder do movimento em Canudos, sendo visto como uma figura desafiadora e enigmática para as autoridades militares e políticas da época.'"
      ]
     },
     "execution_count": 14,
     "metadata": {},
     "output_type": "execute_result"
    }
   ],
   "source": [
    "response4 = ask(\"4. Como Euclides da Cunha descreve a figura de Antônio Conselheiro e seu papel na Guerra de Canudos?\")\n",
    "response4"
   ]
  },
  {
   "cell_type": "code",
   "execution_count": 15,
   "id": "b0315c2a",
   "metadata": {},
   "outputs": [
    {
     "data": {
      "text/plain": [
       "'Os principais aspectos da crítica social e política presentes em \"Os Sertões\" estão relacionados à desigualdade social, à violência, à injustiça e à marginalização dos sertanejos. Euclides da Cunha retrata a realidade geográfica e humana do sertão, destacando a luta do povo sertanejo contra as condições adversas e a opressão do governo e das forças militares.\\n\\nEsses aspectos refletem a visão do autor sobre o Brasil da época, mostrando a sua preocupação com as questões sociais e políticas do país. Euclides da Cunha critica a falta de desenvolvimento e de atenção do governo para com o sertão, evidenciando a marginalização e o abandono dessa região. Além disso, ele denuncia a violência e a brutalidade das for'"
      ]
     },
     "execution_count": 15,
     "metadata": {},
     "output_type": "execute_result"
    }
   ],
   "source": [
    "response5 = ask('5. Quais são os principais aspectos da crítica social e política presentes em \"Os Sertões\"? Como esses aspectos refletem a visão do autor sobre o Brasil da época?')\n",
    "response5"
   ]
  }
 ],
 "metadata": {
  "kernelspec": {
   "display_name": "Python 3",
   "language": "python",
   "name": "python3"
  },
  "language_info": {
   "codemirror_mode": {
    "name": "ipython",
    "version": 3
   },
   "file_extension": ".py",
   "mimetype": "text/x-python",
   "name": "python",
   "nbconvert_exporter": "python",
   "pygments_lexer": "ipython3",
   "version": "3.10.17"
  }
 },
 "nbformat": 4,
 "nbformat_minor": 5
}
